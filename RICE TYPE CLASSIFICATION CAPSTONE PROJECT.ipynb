{
 "cells": [
  {
   "cell_type": "markdown",
   "id": "1840a00f",
   "metadata": {},
   "source": [
    "# Import Libraries"
   ]
  },
  {
   "cell_type": "code",
   "execution_count": null,
   "id": "c44b7bb4",
   "metadata": {},
   "outputs": [],
   "source": [
    "import pandas as pd\n",
    "import seaborn as sns\n",
    "from sklearn.preprocessing import MinMaxScaler\n",
    "from sklearn.model_selection import train_test_split\n",
    "from sklearn.linear_model import LogisticRegression\n",
    "from sklearn.metrics import confusion_matrix\n",
    "import matplotlib.pyplot as plt\n",
    "from sklearn.metrics import accuracy_score\n",
    "from sklearn.metrics import f1_score\n",
    "from sklearn.metrics import recall_score\n",
    "from sklearn.metrics import precision_score\n",
    "from sklearn.metrics import precision_recall_curve\n",
    "from sklearn.metrics import classification_report\n",
    "from sklearn.metrics import roc_auc_score"
   ]
  },
  {
   "cell_type": "markdown",
   "id": "bb1643ca",
   "metadata": {},
   "source": [
    "# Read Data"
   ]
  },
  {
   "cell_type": "code",
   "execution_count": 2,
   "id": "9b6ee770",
   "metadata": {},
   "outputs": [],
   "source": [
    "data=pd.read_csv('C:\\\\Users\\Admin\\\\Desktop\\\\BSK CS Projects\\\\riceClassification.csv')"
   ]
  },
  {
   "cell_type": "markdown",
   "id": "0fb53945",
   "metadata": {},
   "source": [
    "# show 5 frist data"
   ]
  },
  {
   "cell_type": "code",
   "execution_count": 3,
   "id": "0c208684",
   "metadata": {},
   "outputs": [
    {
     "data": {
      "text/html": [
       "<div>\n",
       "<style scoped>\n",
       "    .dataframe tbody tr th:only-of-type {\n",
       "        vertical-align: middle;\n",
       "    }\n",
       "\n",
       "    .dataframe tbody tr th {\n",
       "        vertical-align: top;\n",
       "    }\n",
       "\n",
       "    .dataframe thead th {\n",
       "        text-align: right;\n",
       "    }\n",
       "</style>\n",
       "<table border=\"1\" class=\"dataframe\">\n",
       "  <thead>\n",
       "    <tr style=\"text-align: right;\">\n",
       "      <th></th>\n",
       "      <th>id</th>\n",
       "      <th>Area</th>\n",
       "      <th>MajorAxisLength</th>\n",
       "      <th>MinorAxisLength</th>\n",
       "      <th>Eccentricity</th>\n",
       "      <th>ConvexArea</th>\n",
       "      <th>EquivDiameter</th>\n",
       "      <th>Extent</th>\n",
       "      <th>Perimeter</th>\n",
       "      <th>Roundness</th>\n",
       "      <th>AspectRation</th>\n",
       "      <th>Class</th>\n",
       "    </tr>\n",
       "  </thead>\n",
       "  <tbody>\n",
       "    <tr>\n",
       "      <th>0</th>\n",
       "      <td>1</td>\n",
       "      <td>4537</td>\n",
       "      <td>92.229316</td>\n",
       "      <td>64.012769</td>\n",
       "      <td>0.719916</td>\n",
       "      <td>4677</td>\n",
       "      <td>76.004525</td>\n",
       "      <td>0.657536</td>\n",
       "      <td>273.085</td>\n",
       "      <td>0.764510</td>\n",
       "      <td>1.440796</td>\n",
       "      <td>1</td>\n",
       "    </tr>\n",
       "    <tr>\n",
       "      <th>1</th>\n",
       "      <td>2</td>\n",
       "      <td>2872</td>\n",
       "      <td>74.691881</td>\n",
       "      <td>51.400454</td>\n",
       "      <td>0.725553</td>\n",
       "      <td>3015</td>\n",
       "      <td>60.471018</td>\n",
       "      <td>0.713009</td>\n",
       "      <td>208.317</td>\n",
       "      <td>0.831658</td>\n",
       "      <td>1.453137</td>\n",
       "      <td>1</td>\n",
       "    </tr>\n",
       "    <tr>\n",
       "      <th>2</th>\n",
       "      <td>3</td>\n",
       "      <td>3048</td>\n",
       "      <td>76.293164</td>\n",
       "      <td>52.043491</td>\n",
       "      <td>0.731211</td>\n",
       "      <td>3132</td>\n",
       "      <td>62.296341</td>\n",
       "      <td>0.759153</td>\n",
       "      <td>210.012</td>\n",
       "      <td>0.868434</td>\n",
       "      <td>1.465950</td>\n",
       "      <td>1</td>\n",
       "    </tr>\n",
       "    <tr>\n",
       "      <th>3</th>\n",
       "      <td>4</td>\n",
       "      <td>3073</td>\n",
       "      <td>77.033628</td>\n",
       "      <td>51.928487</td>\n",
       "      <td>0.738639</td>\n",
       "      <td>3157</td>\n",
       "      <td>62.551300</td>\n",
       "      <td>0.783529</td>\n",
       "      <td>210.657</td>\n",
       "      <td>0.870203</td>\n",
       "      <td>1.483456</td>\n",
       "      <td>1</td>\n",
       "    </tr>\n",
       "    <tr>\n",
       "      <th>4</th>\n",
       "      <td>5</td>\n",
       "      <td>3693</td>\n",
       "      <td>85.124785</td>\n",
       "      <td>56.374021</td>\n",
       "      <td>0.749282</td>\n",
       "      <td>3802</td>\n",
       "      <td>68.571668</td>\n",
       "      <td>0.769375</td>\n",
       "      <td>230.332</td>\n",
       "      <td>0.874743</td>\n",
       "      <td>1.510000</td>\n",
       "      <td>1</td>\n",
       "    </tr>\n",
       "  </tbody>\n",
       "</table>\n",
       "</div>"
      ],
      "text/plain": [
       "   id  Area  MajorAxisLength  MinorAxisLength  Eccentricity  ConvexArea  \\\n",
       "0   1  4537        92.229316        64.012769      0.719916        4677   \n",
       "1   2  2872        74.691881        51.400454      0.725553        3015   \n",
       "2   3  3048        76.293164        52.043491      0.731211        3132   \n",
       "3   4  3073        77.033628        51.928487      0.738639        3157   \n",
       "4   5  3693        85.124785        56.374021      0.749282        3802   \n",
       "\n",
       "   EquivDiameter    Extent  Perimeter  Roundness  AspectRation  Class  \n",
       "0      76.004525  0.657536    273.085   0.764510      1.440796      1  \n",
       "1      60.471018  0.713009    208.317   0.831658      1.453137      1  \n",
       "2      62.296341  0.759153    210.012   0.868434      1.465950      1  \n",
       "3      62.551300  0.783529    210.657   0.870203      1.483456      1  \n",
       "4      68.571668  0.769375    230.332   0.874743      1.510000      1  "
      ]
     },
     "execution_count": 3,
     "metadata": {},
     "output_type": "execute_result"
    }
   ],
   "source": [
    "data.head()"
   ]
  },
  {
   "cell_type": "markdown",
   "id": "355f6ee1",
   "metadata": {},
   "source": [
    "# show data describe"
   ]
  },
  {
   "cell_type": "code",
   "execution_count": 4,
   "id": "a28303c6",
   "metadata": {},
   "outputs": [
    {
     "data": {
      "text/html": [
       "<div>\n",
       "<style scoped>\n",
       "    .dataframe tbody tr th:only-of-type {\n",
       "        vertical-align: middle;\n",
       "    }\n",
       "\n",
       "    .dataframe tbody tr th {\n",
       "        vertical-align: top;\n",
       "    }\n",
       "\n",
       "    .dataframe thead th {\n",
       "        text-align: right;\n",
       "    }\n",
       "</style>\n",
       "<table border=\"1\" class=\"dataframe\">\n",
       "  <thead>\n",
       "    <tr style=\"text-align: right;\">\n",
       "      <th></th>\n",
       "      <th>id</th>\n",
       "      <th>Area</th>\n",
       "      <th>MajorAxisLength</th>\n",
       "      <th>MinorAxisLength</th>\n",
       "      <th>Eccentricity</th>\n",
       "      <th>ConvexArea</th>\n",
       "      <th>EquivDiameter</th>\n",
       "      <th>Extent</th>\n",
       "      <th>Perimeter</th>\n",
       "      <th>Roundness</th>\n",
       "      <th>AspectRation</th>\n",
       "      <th>Class</th>\n",
       "    </tr>\n",
       "  </thead>\n",
       "  <tbody>\n",
       "    <tr>\n",
       "      <th>count</th>\n",
       "      <td>18185.000000</td>\n",
       "      <td>18185.000000</td>\n",
       "      <td>18185.000000</td>\n",
       "      <td>18185.000000</td>\n",
       "      <td>18185.000000</td>\n",
       "      <td>18185.000000</td>\n",
       "      <td>18185.000000</td>\n",
       "      <td>18185.000000</td>\n",
       "      <td>18185.000000</td>\n",
       "      <td>18185.000000</td>\n",
       "      <td>18185.000000</td>\n",
       "      <td>18185.000000</td>\n",
       "    </tr>\n",
       "    <tr>\n",
       "      <th>mean</th>\n",
       "      <td>9093.000000</td>\n",
       "      <td>7036.492989</td>\n",
       "      <td>151.680754</td>\n",
       "      <td>59.807851</td>\n",
       "      <td>0.915406</td>\n",
       "      <td>7225.817872</td>\n",
       "      <td>94.132952</td>\n",
       "      <td>0.616653</td>\n",
       "      <td>351.606949</td>\n",
       "      <td>0.707998</td>\n",
       "      <td>2.599081</td>\n",
       "      <td>0.549079</td>\n",
       "    </tr>\n",
       "    <tr>\n",
       "      <th>std</th>\n",
       "      <td>5249.701658</td>\n",
       "      <td>1467.197150</td>\n",
       "      <td>12.376402</td>\n",
       "      <td>10.061653</td>\n",
       "      <td>0.030575</td>\n",
       "      <td>1502.006571</td>\n",
       "      <td>9.906250</td>\n",
       "      <td>0.104389</td>\n",
       "      <td>29.500620</td>\n",
       "      <td>0.067310</td>\n",
       "      <td>0.434836</td>\n",
       "      <td>0.497599</td>\n",
       "    </tr>\n",
       "    <tr>\n",
       "      <th>min</th>\n",
       "      <td>1.000000</td>\n",
       "      <td>2522.000000</td>\n",
       "      <td>74.133114</td>\n",
       "      <td>34.409894</td>\n",
       "      <td>0.676647</td>\n",
       "      <td>2579.000000</td>\n",
       "      <td>56.666658</td>\n",
       "      <td>0.383239</td>\n",
       "      <td>197.015000</td>\n",
       "      <td>0.174590</td>\n",
       "      <td>1.358128</td>\n",
       "      <td>0.000000</td>\n",
       "    </tr>\n",
       "    <tr>\n",
       "      <th>25%</th>\n",
       "      <td>4547.000000</td>\n",
       "      <td>5962.000000</td>\n",
       "      <td>145.675910</td>\n",
       "      <td>51.393151</td>\n",
       "      <td>0.891617</td>\n",
       "      <td>6125.000000</td>\n",
       "      <td>87.126656</td>\n",
       "      <td>0.538530</td>\n",
       "      <td>333.990000</td>\n",
       "      <td>0.650962</td>\n",
       "      <td>2.208527</td>\n",
       "      <td>0.000000</td>\n",
       "    </tr>\n",
       "    <tr>\n",
       "      <th>50%</th>\n",
       "      <td>9093.000000</td>\n",
       "      <td>6660.000000</td>\n",
       "      <td>153.883750</td>\n",
       "      <td>55.724288</td>\n",
       "      <td>0.923259</td>\n",
       "      <td>6843.000000</td>\n",
       "      <td>92.085696</td>\n",
       "      <td>0.601194</td>\n",
       "      <td>353.088000</td>\n",
       "      <td>0.701941</td>\n",
       "      <td>2.602966</td>\n",
       "      <td>1.000000</td>\n",
       "    </tr>\n",
       "    <tr>\n",
       "      <th>75%</th>\n",
       "      <td>13639.000000</td>\n",
       "      <td>8423.000000</td>\n",
       "      <td>160.056214</td>\n",
       "      <td>70.156593</td>\n",
       "      <td>0.941372</td>\n",
       "      <td>8645.000000</td>\n",
       "      <td>103.559146</td>\n",
       "      <td>0.695664</td>\n",
       "      <td>373.003000</td>\n",
       "      <td>0.769280</td>\n",
       "      <td>2.964101</td>\n",
       "      <td>1.000000</td>\n",
       "    </tr>\n",
       "    <tr>\n",
       "      <th>max</th>\n",
       "      <td>18185.000000</td>\n",
       "      <td>10210.000000</td>\n",
       "      <td>183.211434</td>\n",
       "      <td>82.550762</td>\n",
       "      <td>0.966774</td>\n",
       "      <td>11008.000000</td>\n",
       "      <td>114.016559</td>\n",
       "      <td>0.886573</td>\n",
       "      <td>508.511000</td>\n",
       "      <td>0.904748</td>\n",
       "      <td>3.911845</td>\n",
       "      <td>1.000000</td>\n",
       "    </tr>\n",
       "  </tbody>\n",
       "</table>\n",
       "</div>"
      ],
      "text/plain": [
       "                 id          Area  MajorAxisLength  MinorAxisLength  \\\n",
       "count  18185.000000  18185.000000     18185.000000     18185.000000   \n",
       "mean    9093.000000   7036.492989       151.680754        59.807851   \n",
       "std     5249.701658   1467.197150        12.376402        10.061653   \n",
       "min        1.000000   2522.000000        74.133114        34.409894   \n",
       "25%     4547.000000   5962.000000       145.675910        51.393151   \n",
       "50%     9093.000000   6660.000000       153.883750        55.724288   \n",
       "75%    13639.000000   8423.000000       160.056214        70.156593   \n",
       "max    18185.000000  10210.000000       183.211434        82.550762   \n",
       "\n",
       "       Eccentricity    ConvexArea  EquivDiameter        Extent     Perimeter  \\\n",
       "count  18185.000000  18185.000000   18185.000000  18185.000000  18185.000000   \n",
       "mean       0.915406   7225.817872      94.132952      0.616653    351.606949   \n",
       "std        0.030575   1502.006571       9.906250      0.104389     29.500620   \n",
       "min        0.676647   2579.000000      56.666658      0.383239    197.015000   \n",
       "25%        0.891617   6125.000000      87.126656      0.538530    333.990000   \n",
       "50%        0.923259   6843.000000      92.085696      0.601194    353.088000   \n",
       "75%        0.941372   8645.000000     103.559146      0.695664    373.003000   \n",
       "max        0.966774  11008.000000     114.016559      0.886573    508.511000   \n",
       "\n",
       "          Roundness  AspectRation         Class  \n",
       "count  18185.000000  18185.000000  18185.000000  \n",
       "mean       0.707998      2.599081      0.549079  \n",
       "std        0.067310      0.434836      0.497599  \n",
       "min        0.174590      1.358128      0.000000  \n",
       "25%        0.650962      2.208527      0.000000  \n",
       "50%        0.701941      2.602966      1.000000  \n",
       "75%        0.769280      2.964101      1.000000  \n",
       "max        0.904748      3.911845      1.000000  "
      ]
     },
     "execution_count": 4,
     "metadata": {},
     "output_type": "execute_result"
    }
   ],
   "source": [
    "data.describe()"
   ]
  },
  {
   "cell_type": "markdown",
   "id": "466a479c",
   "metadata": {},
   "source": [
    "# Checking the information of a Data Set"
   ]
  },
  {
   "cell_type": "code",
   "execution_count": 5,
   "id": "aef244d9",
   "metadata": {},
   "outputs": [
    {
     "name": "stdout",
     "output_type": "stream",
     "text": [
      "<class 'pandas.core.frame.DataFrame'>\n",
      "RangeIndex: 18185 entries, 0 to 18184\n",
      "Data columns (total 12 columns):\n",
      " #   Column           Non-Null Count  Dtype  \n",
      "---  ------           --------------  -----  \n",
      " 0   id               18185 non-null  int64  \n",
      " 1   Area             18185 non-null  int64  \n",
      " 2   MajorAxisLength  18185 non-null  float64\n",
      " 3   MinorAxisLength  18185 non-null  float64\n",
      " 4   Eccentricity     18185 non-null  float64\n",
      " 5   ConvexArea       18185 non-null  int64  \n",
      " 6   EquivDiameter    18185 non-null  float64\n",
      " 7   Extent           18185 non-null  float64\n",
      " 8   Perimeter        18185 non-null  float64\n",
      " 9   Roundness        18185 non-null  float64\n",
      " 10  AspectRation     18185 non-null  float64\n",
      " 11  Class            18185 non-null  int64  \n",
      "dtypes: float64(8), int64(4)\n",
      "memory usage: 1.7 MB\n"
     ]
    }
   ],
   "source": [
    "data.info()"
   ]
  },
  {
   "cell_type": "markdown",
   "id": "4a5cc58c",
   "metadata": {},
   "source": [
    "# Checking the Null Values"
   ]
  },
  {
   "cell_type": "code",
   "execution_count": 6,
   "id": "f844d1b5",
   "metadata": {},
   "outputs": [
    {
     "data": {
      "text/plain": [
       "id                 0\n",
       "Area               0\n",
       "MajorAxisLength    0\n",
       "MinorAxisLength    0\n",
       "Eccentricity       0\n",
       "ConvexArea         0\n",
       "EquivDiameter      0\n",
       "Extent             0\n",
       "Perimeter          0\n",
       "Roundness          0\n",
       "AspectRation       0\n",
       "Class              0\n",
       "dtype: int64"
      ]
     },
     "execution_count": 6,
     "metadata": {},
     "output_type": "execute_result"
    }
   ],
   "source": [
    "data.isnull().sum()"
   ]
  },
  {
   "cell_type": "markdown",
   "id": "b4bb8f75",
   "metadata": {},
   "source": [
    "# Show data columns"
   ]
  },
  {
   "cell_type": "code",
   "execution_count": 7,
   "id": "9bb5b9be",
   "metadata": {},
   "outputs": [
    {
     "name": "stdout",
     "output_type": "stream",
     "text": [
      "column 1 is : id\n",
      "column 2 is : Area\n",
      "column 3 is : MajorAxisLength\n",
      "column 4 is : MinorAxisLength\n",
      "column 5 is : Eccentricity\n",
      "column 6 is : ConvexArea\n",
      "column 7 is : EquivDiameter\n",
      "column 8 is : Extent\n",
      "column 9 is : Perimeter\n",
      "column 10 is : Roundness\n",
      "column 11 is : AspectRation\n",
      "column 12 is : Class\n"
     ]
    }
   ],
   "source": [
    "x=1\n",
    "for col in data.columns:\n",
    "    print(f'column {x} is :',col)\n",
    "    x+=1"
   ]
  },
  {
   "cell_type": "markdown",
   "id": "0e4a60e0",
   "metadata": {},
   "source": [
    "# Show data corr"
   ]
  },
  {
   "cell_type": "code",
   "execution_count": 8,
   "id": "b6e4ec01",
   "metadata": {},
   "outputs": [
    {
     "data": {
      "text/html": [
       "<div>\n",
       "<style scoped>\n",
       "    .dataframe tbody tr th:only-of-type {\n",
       "        vertical-align: middle;\n",
       "    }\n",
       "\n",
       "    .dataframe tbody tr th {\n",
       "        vertical-align: top;\n",
       "    }\n",
       "\n",
       "    .dataframe thead th {\n",
       "        text-align: right;\n",
       "    }\n",
       "</style>\n",
       "<table border=\"1\" class=\"dataframe\">\n",
       "  <thead>\n",
       "    <tr style=\"text-align: right;\">\n",
       "      <th></th>\n",
       "      <th>id</th>\n",
       "      <th>Area</th>\n",
       "      <th>MajorAxisLength</th>\n",
       "      <th>MinorAxisLength</th>\n",
       "      <th>Eccentricity</th>\n",
       "      <th>ConvexArea</th>\n",
       "      <th>EquivDiameter</th>\n",
       "      <th>Extent</th>\n",
       "      <th>Perimeter</th>\n",
       "      <th>Roundness</th>\n",
       "      <th>AspectRation</th>\n",
       "      <th>Class</th>\n",
       "    </tr>\n",
       "  </thead>\n",
       "  <tbody>\n",
       "    <tr>\n",
       "      <th>id</th>\n",
       "      <td>1.000000</td>\n",
       "      <td>0.709155</td>\n",
       "      <td>0.464022</td>\n",
       "      <td>0.637148</td>\n",
       "      <td>-0.347816</td>\n",
       "      <td>0.707600</td>\n",
       "      <td>0.706333</td>\n",
       "      <td>0.149924</td>\n",
       "      <td>0.628830</td>\n",
       "      <td>0.430033</td>\n",
       "      <td>-0.382648</td>\n",
       "      <td>-0.808591</td>\n",
       "    </tr>\n",
       "    <tr>\n",
       "      <th>Area</th>\n",
       "      <td>0.709155</td>\n",
       "      <td>1.000000</td>\n",
       "      <td>0.599939</td>\n",
       "      <td>0.930215</td>\n",
       "      <td>-0.550073</td>\n",
       "      <td>0.999362</td>\n",
       "      <td>0.998158</td>\n",
       "      <td>0.230541</td>\n",
       "      <td>0.881540</td>\n",
       "      <td>0.620490</td>\n",
       "      <td>-0.623979</td>\n",
       "      <td>-0.816589</td>\n",
       "    </tr>\n",
       "    <tr>\n",
       "      <th>MajorAxisLength</th>\n",
       "      <td>0.464022</td>\n",
       "      <td>0.599939</td>\n",
       "      <td>1.000000</td>\n",
       "      <td>0.273211</td>\n",
       "      <td>0.295717</td>\n",
       "      <td>0.602061</td>\n",
       "      <td>0.618002</td>\n",
       "      <td>-0.073549</td>\n",
       "      <td>0.870178</td>\n",
       "      <td>-0.202566</td>\n",
       "      <td>0.240471</td>\n",
       "      <td>-0.147741</td>\n",
       "    </tr>\n",
       "    <tr>\n",
       "      <th>MinorAxisLength</th>\n",
       "      <td>0.637148</td>\n",
       "      <td>0.930215</td>\n",
       "      <td>0.273211</td>\n",
       "      <td>1.000000</td>\n",
       "      <td>-0.808640</td>\n",
       "      <td>0.928992</td>\n",
       "      <td>0.923790</td>\n",
       "      <td>0.308541</td>\n",
       "      <td>0.674249</td>\n",
       "      <td>0.834398</td>\n",
       "      <td>-0.860516</td>\n",
       "      <td>-0.917766</td>\n",
       "    </tr>\n",
       "    <tr>\n",
       "      <th>Eccentricity</th>\n",
       "      <td>-0.347816</td>\n",
       "      <td>-0.550073</td>\n",
       "      <td>0.295717</td>\n",
       "      <td>-0.808640</td>\n",
       "      <td>1.000000</td>\n",
       "      <td>-0.547896</td>\n",
       "      <td>-0.534688</td>\n",
       "      <td>-0.329954</td>\n",
       "      <td>-0.165915</td>\n",
       "      <td>-0.903657</td>\n",
       "      <td>0.950301</td>\n",
       "      <td>0.788636</td>\n",
       "    </tr>\n",
       "    <tr>\n",
       "      <th>ConvexArea</th>\n",
       "      <td>0.707600</td>\n",
       "      <td>0.999362</td>\n",
       "      <td>0.602061</td>\n",
       "      <td>0.928992</td>\n",
       "      <td>-0.547896</td>\n",
       "      <td>1.000000</td>\n",
       "      <td>0.997403</td>\n",
       "      <td>0.227359</td>\n",
       "      <td>0.886987</td>\n",
       "      <td>0.610236</td>\n",
       "      <td>-0.621472</td>\n",
       "      <td>-0.814214</td>\n",
       "    </tr>\n",
       "    <tr>\n",
       "      <th>EquivDiameter</th>\n",
       "      <td>0.706333</td>\n",
       "      <td>0.998158</td>\n",
       "      <td>0.618002</td>\n",
       "      <td>0.923790</td>\n",
       "      <td>-0.534688</td>\n",
       "      <td>0.997403</td>\n",
       "      <td>1.000000</td>\n",
       "      <td>0.225944</td>\n",
       "      <td>0.891567</td>\n",
       "      <td>0.607432</td>\n",
       "      <td>-0.609957</td>\n",
       "      <td>-0.809361</td>\n",
       "    </tr>\n",
       "    <tr>\n",
       "      <th>Extent</th>\n",
       "      <td>0.149924</td>\n",
       "      <td>0.230541</td>\n",
       "      <td>-0.073549</td>\n",
       "      <td>0.308541</td>\n",
       "      <td>-0.329954</td>\n",
       "      <td>0.227359</td>\n",
       "      <td>0.225944</td>\n",
       "      <td>1.000000</td>\n",
       "      <td>0.073227</td>\n",
       "      <td>0.366793</td>\n",
       "      <td>-0.350875</td>\n",
       "      <td>-0.303440</td>\n",
       "    </tr>\n",
       "    <tr>\n",
       "      <th>Perimeter</th>\n",
       "      <td>0.628830</td>\n",
       "      <td>0.881540</td>\n",
       "      <td>0.870178</td>\n",
       "      <td>0.674249</td>\n",
       "      <td>-0.165915</td>\n",
       "      <td>0.886987</td>\n",
       "      <td>0.891567</td>\n",
       "      <td>0.073227</td>\n",
       "      <td>1.000000</td>\n",
       "      <td>0.186063</td>\n",
       "      <td>-0.227256</td>\n",
       "      <td>-0.533274</td>\n",
       "    </tr>\n",
       "    <tr>\n",
       "      <th>Roundness</th>\n",
       "      <td>0.430033</td>\n",
       "      <td>0.620490</td>\n",
       "      <td>-0.202566</td>\n",
       "      <td>0.834398</td>\n",
       "      <td>-0.903657</td>\n",
       "      <td>0.610236</td>\n",
       "      <td>0.607432</td>\n",
       "      <td>0.366793</td>\n",
       "      <td>0.186063</td>\n",
       "      <td>1.000000</td>\n",
       "      <td>-0.947875</td>\n",
       "      <td>-0.831759</td>\n",
       "    </tr>\n",
       "    <tr>\n",
       "      <th>AspectRation</th>\n",
       "      <td>-0.382648</td>\n",
       "      <td>-0.623979</td>\n",
       "      <td>0.240471</td>\n",
       "      <td>-0.860516</td>\n",
       "      <td>0.950301</td>\n",
       "      <td>-0.621472</td>\n",
       "      <td>-0.609957</td>\n",
       "      <td>-0.350875</td>\n",
       "      <td>-0.227256</td>\n",
       "      <td>-0.947875</td>\n",
       "      <td>1.000000</td>\n",
       "      <td>0.832563</td>\n",
       "    </tr>\n",
       "    <tr>\n",
       "      <th>Class</th>\n",
       "      <td>-0.808591</td>\n",
       "      <td>-0.816589</td>\n",
       "      <td>-0.147741</td>\n",
       "      <td>-0.917766</td>\n",
       "      <td>0.788636</td>\n",
       "      <td>-0.814214</td>\n",
       "      <td>-0.809361</td>\n",
       "      <td>-0.303440</td>\n",
       "      <td>-0.533274</td>\n",
       "      <td>-0.831759</td>\n",
       "      <td>0.832563</td>\n",
       "      <td>1.000000</td>\n",
       "    </tr>\n",
       "  </tbody>\n",
       "</table>\n",
       "</div>"
      ],
      "text/plain": [
       "                       id      Area  MajorAxisLength  MinorAxisLength  \\\n",
       "id               1.000000  0.709155         0.464022         0.637148   \n",
       "Area             0.709155  1.000000         0.599939         0.930215   \n",
       "MajorAxisLength  0.464022  0.599939         1.000000         0.273211   \n",
       "MinorAxisLength  0.637148  0.930215         0.273211         1.000000   \n",
       "Eccentricity    -0.347816 -0.550073         0.295717        -0.808640   \n",
       "ConvexArea       0.707600  0.999362         0.602061         0.928992   \n",
       "EquivDiameter    0.706333  0.998158         0.618002         0.923790   \n",
       "Extent           0.149924  0.230541        -0.073549         0.308541   \n",
       "Perimeter        0.628830  0.881540         0.870178         0.674249   \n",
       "Roundness        0.430033  0.620490        -0.202566         0.834398   \n",
       "AspectRation    -0.382648 -0.623979         0.240471        -0.860516   \n",
       "Class           -0.808591 -0.816589        -0.147741        -0.917766   \n",
       "\n",
       "                 Eccentricity  ConvexArea  EquivDiameter    Extent  Perimeter  \\\n",
       "id                  -0.347816    0.707600       0.706333  0.149924   0.628830   \n",
       "Area                -0.550073    0.999362       0.998158  0.230541   0.881540   \n",
       "MajorAxisLength      0.295717    0.602061       0.618002 -0.073549   0.870178   \n",
       "MinorAxisLength     -0.808640    0.928992       0.923790  0.308541   0.674249   \n",
       "Eccentricity         1.000000   -0.547896      -0.534688 -0.329954  -0.165915   \n",
       "ConvexArea          -0.547896    1.000000       0.997403  0.227359   0.886987   \n",
       "EquivDiameter       -0.534688    0.997403       1.000000  0.225944   0.891567   \n",
       "Extent              -0.329954    0.227359       0.225944  1.000000   0.073227   \n",
       "Perimeter           -0.165915    0.886987       0.891567  0.073227   1.000000   \n",
       "Roundness           -0.903657    0.610236       0.607432  0.366793   0.186063   \n",
       "AspectRation         0.950301   -0.621472      -0.609957 -0.350875  -0.227256   \n",
       "Class                0.788636   -0.814214      -0.809361 -0.303440  -0.533274   \n",
       "\n",
       "                 Roundness  AspectRation     Class  \n",
       "id                0.430033     -0.382648 -0.808591  \n",
       "Area              0.620490     -0.623979 -0.816589  \n",
       "MajorAxisLength  -0.202566      0.240471 -0.147741  \n",
       "MinorAxisLength   0.834398     -0.860516 -0.917766  \n",
       "Eccentricity     -0.903657      0.950301  0.788636  \n",
       "ConvexArea        0.610236     -0.621472 -0.814214  \n",
       "EquivDiameter     0.607432     -0.609957 -0.809361  \n",
       "Extent            0.366793     -0.350875 -0.303440  \n",
       "Perimeter         0.186063     -0.227256 -0.533274  \n",
       "Roundness         1.000000     -0.947875 -0.831759  \n",
       "AspectRation     -0.947875      1.000000  0.832563  \n",
       "Class            -0.831759      0.832563  1.000000  "
      ]
     },
     "execution_count": 8,
     "metadata": {},
     "output_type": "execute_result"
    }
   ],
   "source": [
    "data.corr()"
   ]
  },
  {
   "cell_type": "code",
   "execution_count": 9,
   "id": "907a0512",
   "metadata": {},
   "outputs": [
    {
     "data": {
      "text/plain": [
       "<AxesSubplot:>"
      ]
     },
     "execution_count": 9,
     "metadata": {},
     "output_type": "execute_result"
    },
    {
     "data": {
      "image/png": "[encoded data removed]",
      "text/plain": [
       "<Figure size 640x480 with 2 Axes>"
      ]
     },
     "metadata": {},
     "output_type": "display_data"
    }
   ],
   "source": [
    "sns.heatmap(data.corr())"
   ]
  },
  {
   "cell_type": "markdown",
   "id": "8257f4da",
   "metadata": {},
   "source": [
    "# Checking the Duplicated values "
   ]
  },
  {
   "cell_type": "code",
   "execution_count": 10,
   "id": "6c10072f",
   "metadata": {},
   "outputs": [
    {
     "data": {
      "text/plain": [
       "0"
      ]
     },
     "execution_count": 10,
     "metadata": {},
     "output_type": "execute_result"
    }
   ],
   "source": [
    "data.duplicated().sum()"
   ]
  },
  {
   "cell_type": "markdown",
   "id": "dd3725ac",
   "metadata": {},
   "source": [
    "# Show input X and output  y"
   ]
  },
  {
   "cell_type": "code",
   "execution_count": 11,
   "id": "a77aa897",
   "metadata": {},
   "outputs": [
    {
     "data": {
      "text/plain": [
       "(   id  Area  MajorAxisLength  MinorAxisLength  Eccentricity  ConvexArea  \\\n",
       " 0   1  4537        92.229316        64.012769      0.719916        4677   \n",
       " 1   2  2872        74.691881        51.400454      0.725553        3015   \n",
       " 2   3  3048        76.293164        52.043491      0.731211        3132   \n",
       " 3   4  3073        77.033628        51.928487      0.738639        3157   \n",
       " 4   5  3693        85.124785        56.374021      0.749282        3802   \n",
       " 5   6  2990        77.417073        50.954344      0.752861        3080   \n",
       " 6   7  3556        84.323564        55.413061      0.753762        3636   \n",
       " 7   8  3788        86.952411        56.444769      0.760664        3866   \n",
       " 8   9  2629        74.133114        48.074144      0.761228        2790   \n",
       " 9  10  5719       106.721142        68.977700      0.763053        5819   \n",
       " \n",
       "    EquivDiameter    Extent  Perimeter  Roundness  AspectRation  \n",
       " 0      76.004525  0.657536    273.085   0.764510      1.440796  \n",
       " 1      60.471018  0.713009    208.317   0.831658      1.453137  \n",
       " 2      62.296341  0.759153    210.012   0.868434      1.465950  \n",
       " 3      62.551300  0.783529    210.657   0.870203      1.483456  \n",
       " 4      68.571668  0.769375    230.332   0.874743      1.510000  \n",
       " 5      61.700780  0.584898    216.930   0.798439      1.519342  \n",
       " 6      67.287739  0.750211    227.007   0.867148      1.521727  \n",
       " 7      69.448048  0.800676    235.476   0.858473      1.540487  \n",
       " 8      57.856260  0.640595    207.325   0.768594      1.542058  \n",
       " 9      85.332625  0.754983    281.839   0.904748      1.547183  ,\n",
       " 0    1\n",
       " 1    1\n",
       " 2    1\n",
       " 3    1\n",
       " 4    1\n",
       " 5    1\n",
       " 6    1\n",
       " 7    1\n",
       " 8    1\n",
       " 9    1\n",
       " Name: Class, dtype: int64)"
      ]
     },
     "execution_count": 11,
     "metadata": {},
     "output_type": "execute_result"
    }
   ],
   "source": [
    "X=data.iloc[:,:-1]\n",
    "y=data.iloc[:,-1]\n",
    "X[:10],y[:10]"
   ]
  },
  {
   "cell_type": "markdown",
   "id": "58c1b482",
   "metadata": {},
   "source": [
    "# MinMaxScaler for Data"
   ]
  },
  {
   "cell_type": "code",
   "execution_count": 12,
   "id": "3a1e82d0",
   "metadata": {},
   "outputs": [],
   "source": [
    "scaler = MinMaxScaler(copy=True, feature_range=(0, 1))\n",
    "X = scaler.fit_transform(X)"
   ]
  },
  {
   "cell_type": "markdown",
   "id": "459fc06e",
   "metadata": {},
   "source": [
    "# showing data"
   ]
  },
  {
   "cell_type": "code",
   "execution_count": 13,
   "id": "d035ca3c",
   "metadata": {},
   "outputs": [
    {
     "name": "stdout",
     "output_type": "stream",
     "text": [
      "X \n",
      " [[0.00000000e+00 2.62096774e-01 1.65901000e-01 6.14921912e-01\n",
      "  1.49138919e-01 2.48902598e-01 3.37190938e-01 5.44960448e-01\n",
      "  2.44208593e-01 8.07933800e-01 3.23714166e-02]\n",
      " [5.49934008e-05 4.55254943e-02 5.12261894e-03 3.52934232e-01\n",
      "  1.68566717e-01 5.17261834e-02 6.63359399e-02 6.55171000e-01\n",
      "  3.62829699e-02 8.99898243e-01 3.72039683e-02]\n",
      " [1.09986802e-04 6.84183143e-02 1.98027413e-02 3.66291629e-01\n",
      "  1.88069170e-01 6.56068336e-02 9.81637824e-02 7.46848193e-01\n",
      "  4.17244523e-02 9.50264555e-01 4.22215853e-02]\n",
      " [1.64980202e-04 7.16701353e-02 2.65911106e-02 3.63902713e-01\n",
      "  2.13670983e-01 6.85727844e-02 1.02609451e-01 7.95276556e-01\n",
      "  4.37951049e-02 9.52688061e-01 4.90766520e-02]\n",
      " [2.19973603e-04 1.52315297e-01 1.00768608e-01 4.56246995e-01\n",
      "  2.50354568e-01 1.45094317e-01 2.07585535e-01 7.67156431e-01\n",
      "  1.06958035e-01 9.58906116e-01 5.94709892e-02]\n",
      " [2.74967004e-04 6.08740895e-02 3.01064352e-02 3.43667462e-01\n",
      "  2.62691629e-01 5.94376557e-02 8.77790853e-02 4.00646792e-01\n",
      "  6.39334052e-02 8.54402540e-01 6.31290805e-02]\n",
      " [3.29960405e-04 1.34495317e-01 9.34232404e-02 4.36285593e-01\n",
      "  2.65796084e-01 1.25400403e-01 1.85197895e-01 7.29082243e-01\n",
      "  9.62837404e-02 9.48503579e-01 6.40631148e-02]\n",
      " [3.84953806e-04 1.64672216e-01 1.17523788e-01 4.57716600e-01\n",
      "  2.89588003e-01 1.52687152e-01 2.22866821e-01 8.29344555e-01\n",
      "  1.23471890e-01 9.36622602e-01 7.14090376e-02]\n",
      " [4.39947206e-04 1.39177940e-02 0.00000000e+00 2.83838880e-01\n",
      "  2.91531895e-01 2.50326255e-02 2.07428687e-02 5.11301498e-01\n",
      "  3.30983383e-02 8.13527908e-01 7.20243260e-02]\n",
      " [4.94940607e-04 4.15842872e-01 2.98758061e-01 7.18055306e-01\n",
      "  2.97821699e-01 3.84387235e-01 4.99843362e-01 7.38564075e-01\n",
      "  2.72311683e-01 1.00000000e+00 7.40313389e-02]]\n",
      "y \n",
      " 0    1\n",
      "1    1\n",
      "2    1\n",
      "3    1\n",
      "4    1\n",
      "5    1\n",
      "6    1\n",
      "7    1\n",
      "8    1\n",
      "9    1\n",
      "Name: Class, dtype: int64\n"
     ]
    }
   ],
   "source": [
    "print('X \\n' , X[:10])\n",
    "print('y \\n' , y[:10])"
   ]
  },
  {
   "cell_type": "markdown",
   "id": "37a4576e",
   "metadata": {},
   "source": [
    "# Splitting data"
   ]
  },
  {
   "cell_type": "code",
   "execution_count": 14,
   "id": "1fb2d08e",
   "metadata": {},
   "outputs": [
    {
     "name": "stdout",
     "output_type": "stream",
     "text": [
      "X_train shape is  (12183, 11)\n",
      "X_test shape is  (6002, 11)\n",
      "y_train shape is  (12183,)\n",
      "y_test shape is  (6002,)\n"
     ]
    }
   ],
   "source": [
    "X_train, X_test, y_train, y_test = train_test_split(X, y, test_size=0.33, random_state=44, shuffle =True)\n",
    "print('X_train shape is ' , X_train.shape)\n",
    "print('X_test shape is ' , X_test.shape)\n",
    "print('y_train shape is ' , y_train.shape)\n",
    "print('y_test shape is ' , y_test.shape)"
   ]
  },
  {
   "cell_type": "markdown",
   "id": "d79d2bba",
   "metadata": {},
   "source": [
    "# Applying LogisticRegression Mode"
   ]
  },
  {
   "cell_type": "code",
   "execution_count": 15,
   "id": "80bd3bbd",
   "metadata": {},
   "outputs": [
    {
     "data": {
      "text/plain": [
       "LogisticRegression(random_state=33, solver='sag')"
      ]
     },
     "execution_count": 15,
     "metadata": {},
     "output_type": "execute_result"
    }
   ],
   "source": [
    "LogisticRegressionModel = LogisticRegression(penalty='l2',solver='sag',C=1.0,random_state=33)\n",
    "LogisticRegressionModel.fit(X_train, y_train)"
   ]
  },
  {
   "cell_type": "markdown",
   "id": "a378f5aa",
   "metadata": {},
   "source": [
    "# Calculating Details"
   ]
  },
  {
   "cell_type": "code",
   "execution_count": 16,
   "id": "6f95e809",
   "metadata": {},
   "outputs": [
    {
     "name": "stdout",
     "output_type": "stream",
     "text": [
      "LogisticRegressionModel Train Score is :  0.9998358368218009\n",
      "LogisticRegressionModel Test Score is :  1.0\n",
      "LogisticRegressionModel Classes are :  [0 1]\n",
      "LogisticRegressionModel No. of iteratios is :  [27]\n"
     ]
    }
   ],
   "source": [
    "print('LogisticRegressionModel Train Score is : ' , LogisticRegressionModel.score(X_train, y_train))\n",
    "print('LogisticRegressionModel Test Score is : ' , LogisticRegressionModel.score(X_test, y_test))\n",
    "print('LogisticRegressionModel Classes are : ' , LogisticRegressionModel.classes_)\n",
    "print('LogisticRegressionModel No. of iteratios is : ' , LogisticRegressionModel.n_iter_)"
   ]
  },
  {
   "cell_type": "markdown",
   "id": "fe06076f",
   "metadata": {},
   "source": [
    "# Calculating Prediction"
   ]
  },
  {
   "cell_type": "code",
   "execution_count": 17,
   "id": "a336599b",
   "metadata": {},
   "outputs": [
    {
     "name": "stdout",
     "output_type": "stream",
     "text": [
      "Predicted Value for LogisticRegressionModel is :  [1 0 0 1 1 1 1 0 1 0]\n",
      "Prediction Probabilities Value for LogisticRegressionModel is :  [[3.38500692e-03 9.96614993e-01]\n",
      " [9.92519405e-01 7.48059550e-03]\n",
      " [9.99467779e-01 5.32221376e-04]\n",
      " [1.19673135e-03 9.98803269e-01]\n",
      " [2.31601226e-03 9.97683988e-01]\n",
      " [7.29539494e-03 9.92704605e-01]\n",
      " [7.84898886e-03 9.92151011e-01]\n",
      " [9.96752383e-01 3.24761679e-03]\n",
      " [1.23182486e-03 9.98768175e-01]\n",
      " [9.99353573e-01 6.46427035e-04]]\n"
     ]
    }
   ],
   "source": [
    "y_pred = LogisticRegressionModel.predict(X_test)\n",
    "y_pred_prob = LogisticRegressionModel.predict_proba(X_test)\n",
    "print('Predicted Value for LogisticRegressionModel is : ' , y_pred[:10])\n",
    "print('Prediction Probabilities Value for LogisticRegressionModel is : ' , y_pred_prob[:10])"
   ]
  },
  {
   "cell_type": "markdown",
   "id": "16d28e5a",
   "metadata": {},
   "source": [
    "# Calculating Confusion Matrix"
   ]
  },
  {
   "cell_type": "code",
   "execution_count": 18,
   "id": "f46f058a",
   "metadata": {},
   "outputs": [
    {
     "name": "stdout",
     "output_type": "stream",
     "text": [
      "Confusion Matrix is : \n",
      " [[2738    0]\n",
      " [   0 3264]]\n"
     ]
    },
    {
     "data": {
      "image/png": "[encoded data removed]",
      "text/plain": [
       "<Figure size 640x480 with 2 Axes>"
      ]
     },
     "metadata": {},
     "output_type": "display_data"
    }
   ],
   "source": [
    "CM = confusion_matrix(y_test, y_pred)\n",
    "print('Confusion Matrix is : \\n', CM)\n",
    "# drawing confusion matrix\n",
    "sns.heatmap(CM, center = True)\n",
    "plt.show()"
   ]
  },
  {
   "cell_type": "markdown",
   "id": "453d8278",
   "metadata": {},
   "source": [
    "# Calculating Confusion Matrix"
   ]
  },
  {
   "cell_type": "code",
   "execution_count": 19,
   "id": "2e8fc9fb",
   "metadata": {},
   "outputs": [
    {
     "name": "stdout",
     "output_type": "stream",
     "text": [
      "Confusion Matrix is : \n",
      " [[5462    0]\n",
      " [   2 6719]]\n"
     ]
    },
    {
     "data": {
      "image/png": "[encoded data removed]",
      "text/plain": [
       "<Figure size 640x480 with 2 Axes>"
      ]
     },
     "metadata": {},
     "output_type": "display_data"
    }
   ],
   "source": [
    "CM = confusion_matrix(y_train,LogisticRegressionModel.predict(X_train))\n",
    "print('Confusion Matrix is : \\n', CM)\n",
    "# drawing confusion matrix\n",
    "sns.heatmap(CM, center = True)\n",
    "plt.show()"
   ]
  },
  {
   "cell_type": "markdown",
   "id": "162e0cdc",
   "metadata": {},
   "source": [
    "# Calculating Accuracy Score : ((TP + TN) / float(TP + TN + FP + FN))"
   ]
  },
  {
   "cell_type": "code",
   "execution_count": 20,
   "id": "3a25dd12",
   "metadata": {},
   "outputs": [
    {
     "name": "stdout",
     "output_type": "stream",
     "text": [
      "Accuracy Score is :  1.0\n"
     ]
    }
   ],
   "source": [
    "AccScore = accuracy_score(y_test, y_pred, normalize=True)\n",
    "print('Accuracy Score is : ', AccScore)"
   ]
  },
  {
   "cell_type": "markdown",
   "id": "81676cf3",
   "metadata": {},
   "source": [
    "# Calculating F1 Score : 2 (precision recall) / (precision + recall)"
   ]
  },
  {
   "cell_type": "code",
   "execution_count": 21,
   "id": "e78239d5",
   "metadata": {},
   "outputs": [
    {
     "name": "stdout",
     "output_type": "stream",
     "text": [
      "F1 Score is :  1.0\n"
     ]
    }
   ],
   "source": [
    "F1Score = f1_score(y_test, y_pred, average='micro')\n",
    "print('F1 Score is : ', F1Score)"
   ]
  },
  {
   "cell_type": "markdown",
   "id": "9eef1327",
   "metadata": {},
   "source": [
    "# Calculating Recall Score : (Sensitivity) (TP / float(TP + FN)) 1 / 1+2"
   ]
  },
  {
   "cell_type": "code",
   "execution_count": 22,
   "id": "aafd95f5",
   "metadata": {},
   "outputs": [
    {
     "name": "stdout",
     "output_type": "stream",
     "text": [
      "Recall Score is :  1.0\n"
     ]
    }
   ],
   "source": [
    "RecallScore = recall_score(y_test, y_pred, average='micro') #it can be : binary,macro,weighted,samples\n",
    "print('Recall Score is : ', RecallScore)"
   ]
  },
  {
   "cell_type": "markdown",
   "id": "8a4eec6e",
   "metadata": {},
   "source": [
    "# Calculating Precision Score : (Specificity) #(TP / float(TP + FP))"
   ]
  },
  {
   "cell_type": "code",
   "execution_count": 23,
   "id": "79289181",
   "metadata": {},
   "outputs": [
    {
     "name": "stdout",
     "output_type": "stream",
     "text": [
      "Precision Score is :  1.0\n"
     ]
    }
   ],
   "source": [
    "#Calculating Precision Score : (Specificity) #(TP / float(TP + FP))\n",
    "PrecisionScore = precision_score(y_test, y_pred, average='micro')\n",
    "print('Precision Score is : ', PrecisionScore)"
   ]
  },
  {
   "cell_type": "markdown",
   "id": "3257c723",
   "metadata": {},
   "source": [
    "# Calculating Precision recall Curve :"
   ]
  },
  {
   "cell_type": "code",
   "execution_count": 24,
   "id": "cd4abe94",
   "metadata": {},
   "outputs": [
    {
     "name": "stdout",
     "output_type": "stream",
     "text": [
      "Precision Value is :  [1. 1.]\n",
      "Recall Value is :  [1. 0.]\n",
      "Thresholds Value is :  [1]\n"
     ]
    }
   ],
   "source": [
    "#Calculating Precision recall Curve :\n",
    "PrecisionValue, RecallValue, ThresholdsValue = precision_recall_curve(y_test,y_pred)\n",
    "print('Precision Value is : ', PrecisionValue)\n",
    "print('Recall Value is : ', RecallValue)\n",
    "print('Thresholds Value is : ', ThresholdsValue)"
   ]
  },
  {
   "cell_type": "markdown",
   "id": "14ab5cdb",
   "metadata": {},
   "source": [
    "# Calculating classification Report :"
   ]
  },
  {
   "cell_type": "code",
   "execution_count": 25,
   "id": "95fd5f9c",
   "metadata": {},
   "outputs": [
    {
     "name": "stdout",
     "output_type": "stream",
     "text": [
      "Classification Report is :                precision    recall  f1-score   support\n",
      "\n",
      "           0       1.00      1.00      1.00      2738\n",
      "           1       1.00      1.00      1.00      3264\n",
      "\n",
      "    accuracy                           1.00      6002\n",
      "   macro avg       1.00      1.00      1.00      6002\n",
      "weighted avg       1.00      1.00      1.00      6002\n",
      "\n"
     ]
    }
   ],
   "source": [
    "#Calculating classification Report :\n",
    "\n",
    "\n",
    "ClassificationReport = classification_report(y_test,y_pred)\n",
    "print('Classification Report is : ', ClassificationReport )"
   ]
  },
  {
   "cell_type": "markdown",
   "id": "c30393d0",
   "metadata": {},
   "source": [
    "# Calculating ROC AUC Score:"
   ]
  },
  {
   "cell_type": "code",
   "execution_count": 26,
   "id": "0a49977d",
   "metadata": {},
   "outputs": [
    {
     "name": "stdout",
     "output_type": "stream",
     "text": [
      "ROCAUC Score :  1.0\n"
     ]
    }
   ],
   "source": [
    "#Calculating ROC AUC Score:\n",
    "\n",
    "\n",
    "ROCAUCScore = roc_auc_score(y_test,y_pred, average='micro') #it can be : macro,weighted,samples\n",
    "print('ROCAUC Score : ', ROCAUCScore)"
   ]
  },
  {
   "cell_type": "code",
   "execution_count": null,
   "id": "08305352",
   "metadata": {},
   "outputs": [],
   "source": []
  }
 ],
 "metadata": {
  "kernelspec": {
   "display_name": "Python 3 (ipykernel)",
   "language": "python",
   "name": "python3"
  },
  "language_info": {
   "codemirror_mode": {
    "name": "ipython",
    "version": 3
   },
   "file_extension": ".py",
   "mimetype": "text/x-python",
   "name": "python",
   "nbconvert_exporter": "python",
   "pygments_lexer": "ipython3",
   "version": "3.9.13"
  }
 },
 "nbformat": 4,
 "nbformat_minor": 5
}
